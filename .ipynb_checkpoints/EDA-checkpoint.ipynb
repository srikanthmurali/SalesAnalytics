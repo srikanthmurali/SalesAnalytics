{
 "cells": [
  {
   "cell_type": "markdown",
   "id": "61e190ec",
   "metadata": {},
   "source": [
    "# Importing libraries"
   ]
  },
  {
   "cell_type": "code",
   "execution_count": 1,
   "id": "dd1399ed",
   "metadata": {},
   "outputs": [],
   "source": [
    "import pandas as pd\n",
    "import numpy as np\n",
    "import matplotlib.pyplot as plt\n",
    "import seaborn as sns"
   ]
  },
  {
   "cell_type": "markdown",
   "id": "0d4205cc",
   "metadata": {},
   "source": [
    "# Loading dataset"
   ]
  },
  {
   "cell_type": "code",
   "execution_count": 2,
   "id": "93edb256",
   "metadata": {},
   "outputs": [
    {
     "ename": "FileNotFoundError",
     "evalue": "[Errno 2] No such file or directory: 'ELGI.xlsx'",
     "output_type": "error",
     "traceback": [
      "\u001b[1;31m---------------------------------------------------------------------------\u001b[0m",
      "\u001b[1;31mFileNotFoundError\u001b[0m                         Traceback (most recent call last)",
      "Cell \u001b[1;32mIn[2], line 1\u001b[0m\n\u001b[1;32m----> 1\u001b[0m data \u001b[38;5;241m=\u001b[39m \u001b[43mpd\u001b[49m\u001b[38;5;241;43m.\u001b[39;49m\u001b[43mread_excel\u001b[49m\u001b[43m(\u001b[49m\u001b[38;5;124;43m'\u001b[39;49m\u001b[38;5;124;43mELGI.xlsx\u001b[39;49m\u001b[38;5;124;43m'\u001b[39;49m\u001b[43m)\u001b[49m\n\u001b[0;32m      2\u001b[0m data\n",
      "File \u001b[1;32m~\\AppData\\Local\\anaconda3\\lib\\site-packages\\pandas\\util\\_decorators.py:311\u001b[0m, in \u001b[0;36mdeprecate_nonkeyword_arguments.<locals>.decorate.<locals>.wrapper\u001b[1;34m(*args, **kwargs)\u001b[0m\n\u001b[0;32m    305\u001b[0m \u001b[38;5;28;01mif\u001b[39;00m \u001b[38;5;28mlen\u001b[39m(args) \u001b[38;5;241m>\u001b[39m num_allow_args:\n\u001b[0;32m    306\u001b[0m     warnings\u001b[38;5;241m.\u001b[39mwarn(\n\u001b[0;32m    307\u001b[0m         msg\u001b[38;5;241m.\u001b[39mformat(arguments\u001b[38;5;241m=\u001b[39marguments),\n\u001b[0;32m    308\u001b[0m         \u001b[38;5;167;01mFutureWarning\u001b[39;00m,\n\u001b[0;32m    309\u001b[0m         stacklevel\u001b[38;5;241m=\u001b[39mstacklevel,\n\u001b[0;32m    310\u001b[0m     )\n\u001b[1;32m--> 311\u001b[0m \u001b[38;5;28;01mreturn\u001b[39;00m func(\u001b[38;5;241m*\u001b[39margs, \u001b[38;5;241m*\u001b[39m\u001b[38;5;241m*\u001b[39mkwargs)\n",
      "File \u001b[1;32m~\\AppData\\Local\\anaconda3\\lib\\site-packages\\pandas\\io\\excel\\_base.py:364\u001b[0m, in \u001b[0;36mread_excel\u001b[1;34m(io, sheet_name, header, names, index_col, usecols, squeeze, dtype, engine, converters, true_values, false_values, skiprows, nrows, na_values, keep_default_na, na_filter, verbose, parse_dates, date_parser, thousands, comment, skipfooter, convert_float, mangle_dupe_cols, storage_options)\u001b[0m\n\u001b[0;32m    362\u001b[0m \u001b[38;5;28;01mif\u001b[39;00m \u001b[38;5;129;01mnot\u001b[39;00m \u001b[38;5;28misinstance\u001b[39m(io, ExcelFile):\n\u001b[0;32m    363\u001b[0m     should_close \u001b[38;5;241m=\u001b[39m \u001b[38;5;28;01mTrue\u001b[39;00m\n\u001b[1;32m--> 364\u001b[0m     io \u001b[38;5;241m=\u001b[39m \u001b[43mExcelFile\u001b[49m\u001b[43m(\u001b[49m\u001b[43mio\u001b[49m\u001b[43m,\u001b[49m\u001b[43m \u001b[49m\u001b[43mstorage_options\u001b[49m\u001b[38;5;241;43m=\u001b[39;49m\u001b[43mstorage_options\u001b[49m\u001b[43m,\u001b[49m\u001b[43m \u001b[49m\u001b[43mengine\u001b[49m\u001b[38;5;241;43m=\u001b[39;49m\u001b[43mengine\u001b[49m\u001b[43m)\u001b[49m\n\u001b[0;32m    365\u001b[0m \u001b[38;5;28;01melif\u001b[39;00m engine \u001b[38;5;129;01mand\u001b[39;00m engine \u001b[38;5;241m!=\u001b[39m io\u001b[38;5;241m.\u001b[39mengine:\n\u001b[0;32m    366\u001b[0m     \u001b[38;5;28;01mraise\u001b[39;00m \u001b[38;5;167;01mValueError\u001b[39;00m(\n\u001b[0;32m    367\u001b[0m         \u001b[38;5;124m\"\u001b[39m\u001b[38;5;124mEngine should not be specified when passing \u001b[39m\u001b[38;5;124m\"\u001b[39m\n\u001b[0;32m    368\u001b[0m         \u001b[38;5;124m\"\u001b[39m\u001b[38;5;124man ExcelFile - ExcelFile already has the engine set\u001b[39m\u001b[38;5;124m\"\u001b[39m\n\u001b[0;32m    369\u001b[0m     )\n",
      "File \u001b[1;32m~\\AppData\\Local\\anaconda3\\lib\\site-packages\\pandas\\io\\excel\\_base.py:1191\u001b[0m, in \u001b[0;36mExcelFile.__init__\u001b[1;34m(self, path_or_buffer, engine, storage_options)\u001b[0m\n\u001b[0;32m   1189\u001b[0m     ext \u001b[38;5;241m=\u001b[39m \u001b[38;5;124m\"\u001b[39m\u001b[38;5;124mxls\u001b[39m\u001b[38;5;124m\"\u001b[39m\n\u001b[0;32m   1190\u001b[0m \u001b[38;5;28;01melse\u001b[39;00m:\n\u001b[1;32m-> 1191\u001b[0m     ext \u001b[38;5;241m=\u001b[39m \u001b[43minspect_excel_format\u001b[49m\u001b[43m(\u001b[49m\n\u001b[0;32m   1192\u001b[0m \u001b[43m        \u001b[49m\u001b[43mcontent_or_path\u001b[49m\u001b[38;5;241;43m=\u001b[39;49m\u001b[43mpath_or_buffer\u001b[49m\u001b[43m,\u001b[49m\u001b[43m \u001b[49m\u001b[43mstorage_options\u001b[49m\u001b[38;5;241;43m=\u001b[39;49m\u001b[43mstorage_options\u001b[49m\n\u001b[0;32m   1193\u001b[0m \u001b[43m    \u001b[49m\u001b[43m)\u001b[49m\n\u001b[0;32m   1194\u001b[0m     \u001b[38;5;28;01mif\u001b[39;00m ext \u001b[38;5;129;01mis\u001b[39;00m \u001b[38;5;28;01mNone\u001b[39;00m:\n\u001b[0;32m   1195\u001b[0m         \u001b[38;5;28;01mraise\u001b[39;00m \u001b[38;5;167;01mValueError\u001b[39;00m(\n\u001b[0;32m   1196\u001b[0m             \u001b[38;5;124m\"\u001b[39m\u001b[38;5;124mExcel file format cannot be determined, you must specify \u001b[39m\u001b[38;5;124m\"\u001b[39m\n\u001b[0;32m   1197\u001b[0m             \u001b[38;5;124m\"\u001b[39m\u001b[38;5;124man engine manually.\u001b[39m\u001b[38;5;124m\"\u001b[39m\n\u001b[0;32m   1198\u001b[0m         )\n",
      "File \u001b[1;32m~\\AppData\\Local\\anaconda3\\lib\\site-packages\\pandas\\io\\excel\\_base.py:1070\u001b[0m, in \u001b[0;36minspect_excel_format\u001b[1;34m(content_or_path, storage_options)\u001b[0m\n\u001b[0;32m   1067\u001b[0m \u001b[38;5;28;01mif\u001b[39;00m \u001b[38;5;28misinstance\u001b[39m(content_or_path, \u001b[38;5;28mbytes\u001b[39m):\n\u001b[0;32m   1068\u001b[0m     content_or_path \u001b[38;5;241m=\u001b[39m BytesIO(content_or_path)\n\u001b[1;32m-> 1070\u001b[0m \u001b[38;5;28;01mwith\u001b[39;00m \u001b[43mget_handle\u001b[49m\u001b[43m(\u001b[49m\n\u001b[0;32m   1071\u001b[0m \u001b[43m    \u001b[49m\u001b[43mcontent_or_path\u001b[49m\u001b[43m,\u001b[49m\u001b[43m \u001b[49m\u001b[38;5;124;43m\"\u001b[39;49m\u001b[38;5;124;43mrb\u001b[39;49m\u001b[38;5;124;43m\"\u001b[39;49m\u001b[43m,\u001b[49m\u001b[43m \u001b[49m\u001b[43mstorage_options\u001b[49m\u001b[38;5;241;43m=\u001b[39;49m\u001b[43mstorage_options\u001b[49m\u001b[43m,\u001b[49m\u001b[43m \u001b[49m\u001b[43mis_text\u001b[49m\u001b[38;5;241;43m=\u001b[39;49m\u001b[38;5;28;43;01mFalse\u001b[39;49;00m\n\u001b[0;32m   1072\u001b[0m \u001b[43m\u001b[49m\u001b[43m)\u001b[49m \u001b[38;5;28;01mas\u001b[39;00m handle:\n\u001b[0;32m   1073\u001b[0m     stream \u001b[38;5;241m=\u001b[39m handle\u001b[38;5;241m.\u001b[39mhandle\n\u001b[0;32m   1074\u001b[0m     stream\u001b[38;5;241m.\u001b[39mseek(\u001b[38;5;241m0\u001b[39m)\n",
      "File \u001b[1;32m~\\AppData\\Local\\anaconda3\\lib\\site-packages\\pandas\\io\\common.py:711\u001b[0m, in \u001b[0;36mget_handle\u001b[1;34m(path_or_buf, mode, encoding, compression, memory_map, is_text, errors, storage_options)\u001b[0m\n\u001b[0;32m    702\u001b[0m         handle \u001b[38;5;241m=\u001b[39m \u001b[38;5;28mopen\u001b[39m(\n\u001b[0;32m    703\u001b[0m             handle,\n\u001b[0;32m    704\u001b[0m             ioargs\u001b[38;5;241m.\u001b[39mmode,\n\u001b[1;32m   (...)\u001b[0m\n\u001b[0;32m    707\u001b[0m             newline\u001b[38;5;241m=\u001b[39m\u001b[38;5;124m\"\u001b[39m\u001b[38;5;124m\"\u001b[39m,\n\u001b[0;32m    708\u001b[0m         )\n\u001b[0;32m    709\u001b[0m     \u001b[38;5;28;01melse\u001b[39;00m:\n\u001b[0;32m    710\u001b[0m         \u001b[38;5;66;03m# Binary mode\u001b[39;00m\n\u001b[1;32m--> 711\u001b[0m         handle \u001b[38;5;241m=\u001b[39m \u001b[38;5;28;43mopen\u001b[39;49m\u001b[43m(\u001b[49m\u001b[43mhandle\u001b[49m\u001b[43m,\u001b[49m\u001b[43m \u001b[49m\u001b[43mioargs\u001b[49m\u001b[38;5;241;43m.\u001b[39;49m\u001b[43mmode\u001b[49m\u001b[43m)\u001b[49m\n\u001b[0;32m    712\u001b[0m     handles\u001b[38;5;241m.\u001b[39mappend(handle)\n\u001b[0;32m    714\u001b[0m \u001b[38;5;66;03m# Convert BytesIO or file objects passed with an encoding\u001b[39;00m\n",
      "\u001b[1;31mFileNotFoundError\u001b[0m: [Errno 2] No such file or directory: 'ELGI.xlsx'"
     ]
    }
   ],
   "source": [
    "data = pd.read_excel('ELGI.xlsx')\n",
    "data"
   ]
  },
  {
   "cell_type": "markdown",
   "id": "89e5e2a2",
   "metadata": {},
   "source": [
    "# Categories list & count"
   ]
  },
  {
   "cell_type": "code",
   "execution_count": null,
   "id": "4b65454b",
   "metadata": {},
   "outputs": [],
   "source": [
    "data['categories'].unique()"
   ]
  },
  {
   "cell_type": "code",
   "execution_count": null,
   "id": "744c9a56",
   "metadata": {},
   "outputs": [],
   "source": [
    "data['categories'].nunique()"
   ]
  },
  {
   "cell_type": "markdown",
   "id": "ec2288b3",
   "metadata": {},
   "source": [
    "# Region list & Count"
   ]
  },
  {
   "cell_type": "code",
   "execution_count": null,
   "id": "f1d0dcfa",
   "metadata": {},
   "outputs": [],
   "source": [
    "data['region'].unique()"
   ]
  },
  {
   "cell_type": "code",
   "execution_count": null,
   "id": "a90b806f",
   "metadata": {},
   "outputs": [],
   "source": [
    "data['region'].nunique()"
   ]
  },
  {
   "cell_type": "markdown",
   "id": "7508f314",
   "metadata": {},
   "source": [
    "# Data overview"
   ]
  },
  {
   "cell_type": "code",
   "execution_count": null,
   "id": "d8921c21",
   "metadata": {},
   "outputs": [],
   "source": [
    "data[['units','cost_per_unit','sales_cost','staff_qty','per_staff','staff_cost']].describe()"
   ]
  },
  {
   "cell_type": "markdown",
   "id": "ee9eade9",
   "metadata": {},
   "source": [
    "# Reciprocating_compressor"
   ]
  },
  {
   "cell_type": "code",
   "execution_count": null,
   "id": "882fc751",
   "metadata": {},
   "outputs": [],
   "source": [
    "rp_compressor = data[data['categories'] == 'Reciprocating compressors']\n",
    "rp_compressor[['units','cost_per_unit','sales_cost','staff_qty','per_staff','staff_cost']].describe()"
   ]
  },
  {
   "cell_type": "code",
   "execution_count": null,
   "id": "ad3b1d6f",
   "metadata": {},
   "outputs": [],
   "source": [
    "import matplotlib.pyplot as plt\n",
    "\n",
    "# Create a figure with 2 rows and 3 columns of subplots\n",
    "fig, axes = plt.subplots(nrows=2, ncols=3, figsize=(15, 8))\n",
    "\n",
    "# List of parameter names (assuming you have columns with these names)\n",
    "parameters = ['units', 'cost_per_unit', 'sales_cost', 'staff_qty', 'per_staff', 'staff_cost']\n",
    "\n",
    "# Loop through the subplots and plot histograms for each parameter\n",
    "for i, ax in enumerate(axes.flatten()):\n",
    "    if i < len(parameters):  # Ensure not to exceed the number of parameters\n",
    "        rp_compressor[parameters[i]].plot(kind='hist', bins=20, color='skyblue', edgecolor='black', ax=ax)\n",
    "        ax.set_title(f\"Histogram of {parameters[i]}\")\n",
    "        ax.set_xlabel(parameters[i])\n",
    "        ax.set_ylabel(\"Frequency\")\n",
    "\n",
    "        # Add frequency count annotations to each bar\n",
    "        for container in ax.containers:\n",
    "            ax.bar_label(container, fmt='%d', label_type='edge')\n",
    "\n",
    "# Adjust spacing between subplots\n",
    "plt.tight_layout()\n",
    "\n",
    "# Show the plots\n",
    "plt.show()\n"
   ]
  },
  {
   "cell_type": "markdown",
   "id": "4319ea75",
   "metadata": {},
   "source": [
    "# Rotary screw compressors"
   ]
  },
  {
   "cell_type": "code",
   "execution_count": null,
   "id": "2f68d777",
   "metadata": {},
   "outputs": [],
   "source": [
    "rs_compressor = data[data['categories'] == 'Rotary screw compressors']\n",
    "rs_compressor[['units','cost_per_unit','sales_cost','staff_qty','per_staff','staff_cost']].describe()"
   ]
  },
  {
   "cell_type": "code",
   "execution_count": null,
   "id": "5f2b563f",
   "metadata": {},
   "outputs": [],
   "source": [
    "import matplotlib.pyplot as plt\n",
    "\n",
    "# Create a figure with 2 rows and 3 columns of subplots\n",
    "fig, axes = plt.subplots(nrows=2, ncols=3, figsize=(15, 8))\n",
    "\n",
    "# List of parameter names (assuming you have columns with these names)\n",
    "parameters = ['units', 'cost_per_unit', 'sales_cost', 'staff_qty', 'per_staff', 'staff_cost']\n",
    "\n",
    "# Loop through the subplots and plot histograms for each parameter\n",
    "for i, ax in enumerate(axes.flatten()):\n",
    "    if i < len(parameters):  # Ensure not to exceed the number of parameters\n",
    "        rs_compressor[parameters[i]].plot(kind='hist', bins=20, color='skyblue', edgecolor='black', ax=ax)\n",
    "        ax.set_title(f\"Histogram of {parameters[i]}\")\n",
    "        ax.set_xlabel(parameters[i])\n",
    "        ax.set_ylabel(\"Frequency\")\n",
    "\n",
    "        # Add frequency count annotations to each bar\n",
    "        for container in ax.containers:\n",
    "            ax.bar_label(container, fmt='%d', label_type='edge')\n",
    "\n",
    "# Adjust spacing between subplots\n",
    "plt.tight_layout()\n",
    "\n",
    "# Show the plots\n",
    "plt.show()\n"
   ]
  },
  {
   "cell_type": "markdown",
   "id": "917dbdf0",
   "metadata": {},
   "source": [
    "# Oil free compressors"
   ]
  },
  {
   "cell_type": "code",
   "execution_count": null,
   "id": "863ac635",
   "metadata": {},
   "outputs": [],
   "source": [
    "of_compressor = data[data['categories'] == 'Oil free compressors']\n",
    "of_compressor[['units','cost_per_unit','sales_cost','staff_qty','per_staff','staff_cost']].describe()"
   ]
  },
  {
   "cell_type": "code",
   "execution_count": null,
   "id": "2477799d",
   "metadata": {},
   "outputs": [],
   "source": [
    "import matplotlib.pyplot as plt\n",
    "\n",
    "# Create a figure with 2 rows and 3 columns of subplots\n",
    "fig, axes = plt.subplots(nrows=2, ncols=3, figsize=(15, 8))\n",
    "\n",
    "# List of parameter names (assuming you have columns with these names)\n",
    "parameters = ['units', 'cost_per_unit', 'sales_cost', 'staff_qty', 'per_staff', 'staff_cost']\n",
    "\n",
    "# Loop through the subplots and plot histograms for each parameter\n",
    "for i, ax in enumerate(axes.flatten()):\n",
    "    if i < len(parameters):  # Ensure not to exceed the number of parameters\n",
    "        of_compressor[parameters[i]].plot(kind='hist', bins=20, color='skyblue', edgecolor='black', ax=ax)\n",
    "        ax.set_title(f\"Histogram of {parameters[i]}\")\n",
    "        ax.set_xlabel(parameters[i])\n",
    "        ax.set_ylabel(\"Frequency\")\n",
    "\n",
    "        # Add frequency count annotations to each bar\n",
    "        for container in ax.containers:\n",
    "            ax.bar_label(container, fmt='%d', label_type='edge')\n",
    "\n",
    "# Adjust spacing between subplots\n",
    "plt.tight_layout()\n",
    "\n",
    "# Show the plots\n",
    "plt.show()\n"
   ]
  },
  {
   "cell_type": "markdown",
   "id": "8c6935e8",
   "metadata": {},
   "source": [
    "# Centrifugal compressors"
   ]
  },
  {
   "cell_type": "code",
   "execution_count": null,
   "id": "cce74a49",
   "metadata": {},
   "outputs": [],
   "source": [
    "cf_compressor = data[data['categories'] == 'Centrifugal compressors']\n",
    "cf_compressor[['units','cost_per_unit','sales_cost','staff_qty','per_staff','staff_cost']].describe()"
   ]
  },
  {
   "cell_type": "code",
   "execution_count": null,
   "id": "f3550bf5",
   "metadata": {},
   "outputs": [],
   "source": [
    "import matplotlib.pyplot as plt\n",
    "\n",
    "# Create a figure with 2 rows and 3 columns of subplots\n",
    "fig, axes = plt.subplots(nrows=2, ncols=3, figsize=(15, 8))\n",
    "\n",
    "# List of parameter names (assuming you have columns with these names)\n",
    "parameters = ['units', 'cost_per_unit', 'sales_cost', 'staff_qty', 'per_staff', 'staff_cost']\n",
    "\n",
    "# Loop through the subplots and plot histograms for each parameter\n",
    "for i, ax in enumerate(axes.flatten()):\n",
    "    if i < len(parameters):  # Ensure not to exceed the number of parameters\n",
    "        cf_compressor[parameters[i]].plot(kind='hist', bins=20, color='skyblue', edgecolor='black', ax=ax)\n",
    "        ax.set_title(f\"Histogram of {parameters[i]}\")\n",
    "        ax.set_xlabel(parameters[i])\n",
    "        ax.set_ylabel(\"Frequency\")\n",
    "\n",
    "        # Add frequency count annotations to each bar\n",
    "        for container in ax.containers:\n",
    "            ax.bar_label(container, fmt='%d', label_type='edge')\n",
    "\n",
    "# Adjust spacing between subplots\n",
    "plt.tight_layout()\n",
    "\n",
    "# Show the plots\n",
    "plt.show()\n"
   ]
  },
  {
   "cell_type": "markdown",
   "id": "a422393b",
   "metadata": {},
   "source": [
    "# High-pressure compressors"
   ]
  },
  {
   "cell_type": "code",
   "execution_count": null,
   "id": "191ec750",
   "metadata": {},
   "outputs": [],
   "source": [
    "hp_compressor = data[data['categories'] == 'High-pressure compressors']\n",
    "hp_compressor[['units','cost_per_unit','sales_cost','staff_qty','per_staff','staff_cost']].describe()"
   ]
  },
  {
   "cell_type": "code",
   "execution_count": null,
   "id": "b18ba2be",
   "metadata": {},
   "outputs": [],
   "source": [
    "import matplotlib.pyplot as plt\n",
    "\n",
    "# Create a figure with 2 rows and 3 columns of subplots\n",
    "fig, axes = plt.subplots(nrows=2, ncols=3, figsize=(20, 8))\n",
    "\n",
    "# List of parameter names (assuming you have columns with these names)\n",
    "parameters = ['units', 'cost_per_unit', 'sales_cost', 'staff_qty', 'per_staff', 'staff_cost']\n",
    "\n",
    "# Loop through the subplots and plot histograms for each parameter\n",
    "for i, ax in enumerate(axes.flatten()):\n",
    "    if i < len(parameters):  # Ensure not to exceed the number of parameters\n",
    "        hp_compressor[parameters[i]].plot(kind='hist', bins=20, color='skyblue', edgecolor='black', ax=ax)\n",
    "        ax.set_title(f\"Histogram of {parameters[i]}\")\n",
    "        ax.set_xlabel(parameters[i])\n",
    "        ax.set_ylabel(\"Frequency\")\n",
    "\n",
    "        # Add frequency count annotations to each bar\n",
    "        for container in ax.containers:\n",
    "            ax.bar_label(container, fmt='%d', label_type='edge')\n",
    "\n",
    "# Adjust spacing between subplots\n",
    "plt.tight_layout()\n",
    "\n",
    "# Show the plots\n",
    "plt.show()\n"
   ]
  },
  {
   "cell_type": "markdown",
   "id": "64f8668e",
   "metadata": {},
   "source": [
    "# Portable compressors"
   ]
  },
  {
   "cell_type": "code",
   "execution_count": null,
   "id": "6b151f4e",
   "metadata": {},
   "outputs": [],
   "source": [
    "p_compressor = data[data['categories'] == 'Portable compressors']\n",
    "p_compressor[['units','cost_per_unit','sales_cost','staff_qty','per_staff','staff_cost']].describe()"
   ]
  },
  {
   "cell_type": "code",
   "execution_count": null,
   "id": "0d42947d",
   "metadata": {},
   "outputs": [],
   "source": [
    "import matplotlib.pyplot as plt\n",
    "\n",
    "# Create a figure with 2 rows and 3 columns of subplots\n",
    "fig, axes = plt.subplots(nrows=2, ncols=3, figsize=(20, 8))\n",
    "\n",
    "# List of parameter names (assuming you have columns with these names)\n",
    "parameters = ['units', 'cost_per_unit', 'sales_cost', 'staff_qty', 'per_staff', 'staff_cost']\n",
    "\n",
    "# Loop through the subplots and plot histograms for each parameter\n",
    "for i, ax in enumerate(axes.flatten()):\n",
    "    if i < len(parameters):  # Ensure not to exceed the number of parameters\n",
    "        p_compressor[parameters[i]].plot(kind='hist', bins=20, color='skyblue', edgecolor='black', ax=ax)\n",
    "        ax.set_title(f\"Histogram of {parameters[i]}\")\n",
    "        ax.set_xlabel(parameters[i])\n",
    "        ax.set_ylabel(\"Frequency\")\n",
    "\n",
    "        # Add frequency count annotations to each bar\n",
    "        for container in ax.containers:\n",
    "            ax.bar_label(container, fmt='%d', label_type='edge')\n",
    "\n",
    "# Adjust spacing between subplots\n",
    "plt.tight_layout()\n",
    "\n",
    "# Show the plots\n",
    "plt.show()\n"
   ]
  },
  {
   "cell_type": "markdown",
   "id": "de85b0c8",
   "metadata": {},
   "source": [
    "# Low pressure compressors"
   ]
  },
  {
   "cell_type": "code",
   "execution_count": null,
   "id": "388e1468",
   "metadata": {},
   "outputs": [],
   "source": [
    "lp_compressor = data[data['categories'] == 'Low pressure compressors']\n",
    "lp_compressor[['units','cost_per_unit','sales_cost','staff_qty','per_staff','staff_cost']].describe()"
   ]
  },
  {
   "cell_type": "code",
   "execution_count": null,
   "id": "2093b9cd",
   "metadata": {},
   "outputs": [],
   "source": [
    "import matplotlib.pyplot as plt\n",
    "\n",
    "# Create a figure with 2 rows and 3 columns of subplots\n",
    "fig, axes = plt.subplots(nrows=2, ncols=3, figsize=(20, 8))\n",
    "\n",
    "# List of parameter names (assuming you have columns with these names)\n",
    "parameters = ['units', 'cost_per_unit', 'sales_cost', 'staff_qty', 'per_staff', 'staff_cost']\n",
    "\n",
    "# Loop through the subplots and plot histograms for each parameter\n",
    "for i, ax in enumerate(axes.flatten()):\n",
    "    if i < len(parameters):  # Ensure not to exceed the number of parameters\n",
    "        lp_compressor[parameters[i]].plot(kind='hist', bins=20, color='skyblue', edgecolor='black', ax=ax)\n",
    "        ax.set_title(f\"Histogram of {parameters[i]}\")\n",
    "        ax.set_xlabel(parameters[i])\n",
    "        ax.set_ylabel(\"Frequency\")\n",
    "\n",
    "        # Add frequency count annotations to each bar\n",
    "        for container in ax.containers:\n",
    "            ax.bar_label(container, fmt='%d', label_type='edge')\n",
    "\n",
    "# Adjust spacing between subplots\n",
    "plt.tight_layout()\n",
    "\n",
    "# Show the plots\n",
    "plt.show()\n"
   ]
  },
  {
   "cell_type": "markdown",
   "id": "fbfef71a",
   "metadata": {},
   "source": [
    "# Gas compressors"
   ]
  },
  {
   "cell_type": "code",
   "execution_count": null,
   "id": "9855621c",
   "metadata": {},
   "outputs": [],
   "source": [
    "g_compressor = data[data['categories'] == 'Gas compressors']\n",
    "g_compressor[['units','cost_per_unit','sales_cost','staff_qty','per_staff','staff_cost']].describe()"
   ]
  },
  {
   "cell_type": "code",
   "execution_count": null,
   "id": "948718ea",
   "metadata": {},
   "outputs": [],
   "source": [
    "import matplotlib.pyplot as plt\n",
    "\n",
    "# Create a figure with 2 rows and 3 columns of subplots\n",
    "fig, axes = plt.subplots(nrows=2, ncols=3, figsize=(20, 8))\n",
    "\n",
    "# List of parameter names (assuming you have columns with these names)\n",
    "parameters = ['units', 'cost_per_unit', 'sales_cost', 'staff_qty', 'per_staff', 'staff_cost']\n",
    "\n",
    "# Loop through the subplots and plot histograms for each parameter\n",
    "for i, ax in enumerate(axes.flatten()):\n",
    "    if i < len(parameters):  # Ensure not to exceed the number of parameters\n",
    "        g_compressor[parameters[i]].plot(kind='hist', bins=20, color='skyblue', edgecolor='black', ax=ax)\n",
    "        ax.set_title(f\"Histogram of {parameters[i]}\")\n",
    "        ax.set_xlabel(parameters[i])\n",
    "        ax.set_ylabel(\"Frequency\")\n",
    "\n",
    "        # Add frequency count annotations to each bar\n",
    "        for container in ax.containers:\n",
    "            ax.bar_label(container, fmt='%d', label_type='edge')\n",
    "\n",
    "# Adjust spacing between subplots\n",
    "plt.tight_layout()\n",
    "\n",
    "# Show the plots\n",
    "plt.show()\n"
   ]
  },
  {
   "cell_type": "code",
   "execution_count": null,
   "id": "d231f097",
   "metadata": {},
   "outputs": [],
   "source": [
    "import matplotlib.pyplot as plt\n",
    "import seaborn as sns\n",
    "import numpy as np\n",
    "\n",
    "# List of parameter names (assuming you have columns with these names)\n",
    "parameters = ['units', 'cost_per_unit', 'sales_cost', 'staff_qty', 'per_staff', 'staff_cost']\n",
    "\n",
    "# Calculate the correlation matrix\n",
    "correlation_matrix = rp_compressor[parameters].corr()\n",
    "\n",
    "# Create a custom diverging color map\n",
    "cmap = sns.diverging_palette(220, 10, as_cmap=True)\n",
    "\n",
    "# Create a figure and axis for the correlation heatmap\n",
    "plt.figure(figsize=(10, 6))\n",
    "ax = plt.axes()\n",
    "\n",
    "# Create a heatmap of the correlation matrix with custom color map\n",
    "sns.heatmap(correlation_matrix, annot=True, cmap=cmap, fmt=\".2f\", ax=ax, center=0)\n",
    "\n",
    "# Set the title\n",
    "ax.set_title(\"Correlation Heatmap\")\n",
    "\n",
    "# Show the plot\n",
    "plt.show()\n"
   ]
  },
  {
   "cell_type": "code",
   "execution_count": null,
   "id": "8a874ef5",
   "metadata": {},
   "outputs": [],
   "source": [
    "import matplotlib.pyplot as plt\n",
    "import seaborn as sns\n",
    "\n",
    "# List of parameter names (assuming you have columns with these names)\n",
    "parameters = ['units', 'cost_per_unit', 'sales_cost', 'staff_qty', 'per_staff', 'staff_cost']\n",
    "\n",
    "# Create a figure with a single row and one column of subplots\n",
    "fig, axes = plt.subplots(nrows=1, ncols=len(parameters), figsize=(20, 6))\n",
    "\n",
    "# Loop through the subplots and create box plots for each parameter\n",
    "for i, param in enumerate(parameters):\n",
    "    sns.boxplot(filtered_df1=rp_compressor[param], ax=axes[i], color='skyblue')\n",
    "    axes[i].set_title(f\"{param}\")\n",
    "    axes[i].set_xlabel(param)\n",
    "\n",
    "# Adjust spacing between subplots\n",
    "plt.tight_layout()\n",
    "\n",
    "# Show the plots\n",
    "plt.show()\n"
   ]
  },
  {
   "cell_type": "code",
   "execution_count": null,
   "id": "f8665d8e",
   "metadata": {},
   "outputs": [],
   "source": []
  }
 ],
 "metadata": {
  "kernelspec": {
   "display_name": "Python 3 (ipykernel)",
   "language": "python",
   "name": "python3"
  },
  "language_info": {
   "codemirror_mode": {
    "name": "ipython",
    "version": 3
   },
   "file_extension": ".py",
   "mimetype": "text/x-python",
   "name": "python",
   "nbconvert_exporter": "python",
   "pygments_lexer": "ipython3",
   "version": "3.10.9"
  }
 },
 "nbformat": 4,
 "nbformat_minor": 5
}
